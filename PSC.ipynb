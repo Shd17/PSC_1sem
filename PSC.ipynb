{
 "cells": [
  {
   "cell_type": "code",
   "execution_count": 1,
   "id": "b5ea8c02-93a1-485c-a263-347c2a5134fa",
   "metadata": {},
   "outputs": [
    {
     "data": {
      "text/plain": [
       "'*************************************************************sukruti**************************************************************'"
      ]
     },
     "execution_count": 1,
     "metadata": {},
     "output_type": "execute_result"
    }
   ],
   "source": [
    "#10 try to give adefination of string center function with and example \n",
    "b=\"sukruti\"\n",
    "b.center(130,\"*\")"
   ]
  },
  {
   "cell_type": "code",
   "execution_count": 2,
   "id": "d82c6ad8-be00-4d93-a6aa-7a7d4cff3433",
   "metadata": {},
   "outputs": [],
   "source": [
    "#definition:\n",
    "# center() function is used to align the string in to the ceter by adding specified characters in both the string or with space by default,\n",
    "# then the string will have specified widthand if the total width is greater than the string, the extra characters will be added equally "
   ]
  },
  {
   "cell_type": "code",
   "execution_count": 3,
   "id": "4a076e03-6e0f-4b87-b1b4-db96669867e5",
   "metadata": {},
   "outputs": [],
   "source": [
    "#11 write your own definition of compiler and interpretor without copy paste form interent in your own language "
   ]
  },
  {
   "cell_type": "code",
   "execution_count": 4,
   "id": "5ad0c846-0536-4a5e-a9bc-b90a0dd6b444",
   "metadata": {},
   "outputs": [],
   "source": [
    "# compiler- the code which we have written in the program gets converted into binary code (01)by the compiler because the computer know only binary language\n",
    "#interpretor-it translates code line by line as the code runs."
   ]
  },
  {
   "cell_type": "code",
   "execution_count": 5,
   "id": "b905f4b0-0bf2-4b15-b3af-9aeb634b5bfb",
   "metadata": {},
   "outputs": [],
   "source": [
    "roll_no_47=\"sukruti deshmukh\""
   ]
  },
  {
   "cell_type": "code",
   "execution_count": 6,
   "id": "0d38f698-7b84-45bd-87aa-789cb81ab113",
   "metadata": {},
   "outputs": [
    {
     "data": {
      "text/plain": [
       "'sukruti deshmukh'"
      ]
     },
     "execution_count": 6,
     "metadata": {},
     "output_type": "execute_result"
    }
   ],
   "source": [
    "roll_no_47"
   ]
  },
  {
   "cell_type": "code",
   "execution_count": 7,
   "id": "05de89a9-ed9d-4e69-bd21-504b53becf64",
   "metadata": {},
   "outputs": [
    {
     "ename": "SyntaxError",
     "evalue": "cannot assign to True (3243576230.py, line 1)",
     "output_type": "error",
     "traceback": [
      "\u001b[0;36m  Cell \u001b[0;32mIn[7], line 1\u001b[0;36m\u001b[0m\n\u001b[0;31m    True=\"sukruti deshmukh\"\u001b[0m\n\u001b[0m    ^\u001b[0m\n\u001b[0;31mSyntaxError\u001b[0m\u001b[0;31m:\u001b[0m cannot assign to True\n"
     ]
    }
   ],
   "source": [
    "True=\"sukruti deshmukh\""
   ]
  },
  {
   "cell_type": "code",
   "execution_count": 8,
   "id": "5d37d039-d1d8-40db-9899-850787faca7f",
   "metadata": {},
   "outputs": [
    {
     "ename": "SyntaxError",
     "evalue": "invalid syntax (2519425079.py, line 1)",
     "output_type": "error",
     "traceback": [
      "\u001b[0;36m  Cell \u001b[0;32mIn[8], line 1\u001b[0;36m\u001b[0m\n\u001b[0;31m    na me= \"sukruti desmukh \"\u001b[0m\n\u001b[0m       ^\u001b[0m\n\u001b[0;31mSyntaxError\u001b[0m\u001b[0;31m:\u001b[0m invalid syntax\n"
     ]
    }
   ],
   "source": [
    "na me= \"sukruti desmukh \""
   ]
  },
  {
   "cell_type": "code",
   "execution_count": 9,
   "id": "e21977b4-523d-4a31-946f-9cadef22d0e8",
   "metadata": {},
   "outputs": [],
   "source": [
    "age =30"
   ]
  },
  {
   "cell_type": "code",
   "execution_count": 10,
   "id": "bf6116b9-ab2d-4f88-8da3-89c0d0eb2806",
   "metadata": {},
   "outputs": [],
   "source": [
    "Age=35"
   ]
  },
  {
   "cell_type": "code",
   "execution_count": 11,
   "id": "5e37a43e-769d-4828-ae2c-5a118bc5aabb",
   "metadata": {},
   "outputs": [
    {
     "data": {
      "text/plain": [
       "35"
      ]
     },
     "execution_count": 11,
     "metadata": {},
     "output_type": "execute_result"
    }
   ],
   "source": [
    "Age"
   ]
  },
  {
   "cell_type": "code",
   "execution_count": 12,
   "id": "7715215c-efa6-40dc-8ecd-d32511d23dcf",
   "metadata": {},
   "outputs": [
    {
     "data": {
      "text/plain": [
       "30"
      ]
     },
     "execution_count": 12,
     "metadata": {},
     "output_type": "execute_result"
    }
   ],
   "source": [
    "age"
   ]
  },
  {
   "cell_type": "code",
   "execution_count": 13,
   "id": "e336b719-eacf-4fff-b6d3-33e41db68025",
   "metadata": {},
   "outputs": [
    {
     "ename": "SyntaxError",
     "evalue": "invalid decimal literal (1475805902.py, line 1)",
     "output_type": "error",
     "traceback": [
      "\u001b[0;36m  Cell \u001b[0;32mIn[13], line 1\u001b[0;36m\u001b[0m\n\u001b[0;31m    23name=\"sukruti deshmukh\"\u001b[0m\n\u001b[0m     ^\u001b[0m\n\u001b[0;31mSyntaxError\u001b[0m\u001b[0;31m:\u001b[0m invalid decimal literal\n"
     ]
    }
   ],
   "source": [
    "23name=\"sukruti deshmukh\""
   ]
  },
  {
   "cell_type": "code",
   "execution_count": 14,
   "id": "b2b39bcc-5550-4bf8-9a02-1712c9c5594f",
   "metadata": {},
   "outputs": [],
   "source": [
    "name23=\"sukruti deshmukh\""
   ]
  },
  {
   "cell_type": "code",
   "execution_count": 23,
   "id": "2070377f-e0ae-46e0-81d8-a746869fd7eb",
   "metadata": {},
   "outputs": [],
   "source": [
    "a,b=23,67"
   ]
  },
  {
   "cell_type": "code",
   "execution_count": 16,
   "id": "5afa6283-ef42-4aae-90e9-edb2f0f2829d",
   "metadata": {},
   "outputs": [
    {
     "data": {
      "text/plain": [
       "23"
      ]
     },
     "execution_count": 16,
     "metadata": {},
     "output_type": "execute_result"
    }
   ],
   "source": [
    "a"
   ]
  },
  {
   "cell_type": "code",
   "execution_count": 17,
   "id": "8162a7c8-b755-4564-b15a-5d24d10adb99",
   "metadata": {},
   "outputs": [
    {
     "data": {
      "text/plain": [
       "67"
      ]
     },
     "execution_count": 17,
     "metadata": {},
     "output_type": "execute_result"
    }
   ],
   "source": [
    "b"
   ]
  },
  {
   "cell_type": "code",
   "execution_count": 24,
   "id": "8aef0fee-5ec6-4a03-b5fd-84ca6c67f0ba",
   "metadata": {},
   "outputs": [],
   "source": [
    "a,b,c=23,67 ,45"
   ]
  },
  {
   "cell_type": "code",
   "execution_count": 19,
   "id": "410fdc90-fed2-4fd2-9e1d-ae94c7da36d5",
   "metadata": {},
   "outputs": [
    {
     "name": "stdout",
     "output_type": "stream",
     "text": [
      "sukruti deshmukh\n"
     ]
    }
   ],
   "source": [
    "#library function or in-built function \n",
    "print(\"sukruti deshmukh\")"
   ]
  },
  {
   "cell_type": "code",
   "execution_count": 20,
   "id": "ed483e3c-e8f9-4385-8de0-503275dc887c",
   "metadata": {},
   "outputs": [
    {
     "name": "stdout",
     "output_type": "stream",
     "text": [
      "23\n",
      "a\n"
     ]
    }
   ],
   "source": [
    "print(a)\n",
    "print(\"a\")"
   ]
  },
  {
   "cell_type": "code",
   "execution_count": 25,
   "id": "c00d2c04-202f-47b1-8369-e66b241a1da2",
   "metadata": {},
   "outputs": [
    {
     "name": "stdout",
     "output_type": "stream",
     "text": [
      "23 67 45\n"
     ]
    }
   ],
   "source": [
    "print(a,b,c)"
   ]
  },
  {
   "cell_type": "code",
   "execution_count": 29,
   "id": "f4ff33ec-1b69-41cc-a63f-d9fc5eddf7e6",
   "metadata": {},
   "outputs": [
    {
     "name": "stdout",
     "output_type": "stream",
     "text": [
      "23#67#45\n"
     ]
    }
   ],
   "source": [
    "#o/p-->23,67,45\n",
    "print(23,67,45, sep='#')"
   ]
  },
  {
   "cell_type": "code",
   "execution_count": 30,
   "id": "c2b87cbd-95af-4098-8316-80cfe3c8739e",
   "metadata": {},
   "outputs": [],
   "source": [
    "name=\"sukriuti deshmukh\""
   ]
  },
  {
   "cell_type": "code",
   "execution_count": 31,
   "id": "d6d948dc-46d4-4cb1-9311-919bcf80862c",
   "metadata": {},
   "outputs": [
    {
     "data": {
      "text/plain": [
       "str"
      ]
     },
     "execution_count": 31,
     "metadata": {},
     "output_type": "execute_result"
    }
   ],
   "source": [
    "type(name)"
   ]
  },
  {
   "cell_type": "code",
   "execution_count": 32,
   "id": "ae55bd51-81ad-4a9a-b0b8-8fbc954aaffe",
   "metadata": {},
   "outputs": [],
   "source": [
    "name1='sukruti deshmukh'"
   ]
  },
  {
   "cell_type": "code",
   "execution_count": 33,
   "id": "4512091c-13dc-4945-bde9-a54171fefe44",
   "metadata": {},
   "outputs": [
    {
     "data": {
      "text/plain": [
       "str"
      ]
     },
     "execution_count": 33,
     "metadata": {},
     "output_type": "execute_result"
    }
   ],
   "source": [
    "type (name1)"
   ]
  },
  {
   "cell_type": "code",
   "execution_count": 34,
   "id": "115dfc13-5b84-499c-8e7b-45694af27ee2",
   "metadata": {},
   "outputs": [],
   "source": [
    "name2=\"\"\"sukruti deshmukh\"\"\""
   ]
  },
  {
   "cell_type": "code",
   "execution_count": 35,
   "id": "a98bee2a-7ada-4a30-9169-4262ed63fd9c",
   "metadata": {},
   "outputs": [
    {
     "data": {
      "text/plain": [
       "str"
      ]
     },
     "execution_count": 35,
     "metadata": {},
     "output_type": "execute_result"
    }
   ],
   "source": [
    "type(name2)"
   ]
  },
  {
   "cell_type": "code",
   "execution_count": 36,
   "id": "2e4c127c-c59a-4351-bcd4-772f5316427e",
   "metadata": {},
   "outputs": [
    {
     "ename": "SyntaxError",
     "evalue": "invalid syntax (1386492783.py, line 1)",
     "output_type": "error",
     "traceback": [
      "\u001b[0;36m  Cell \u001b[0;32mIn[36], line 1\u001b[0;36m\u001b[0m\n\u001b[0;31m    name3=\"\"sukruti deshmukh\"\"\u001b[0m\n\u001b[0m            ^\u001b[0m\n\u001b[0;31mSyntaxError\u001b[0m\u001b[0;31m:\u001b[0m invalid syntax\n"
     ]
    }
   ],
   "source": [
    "name3=\"\"sukruti deshmukh\"\""
   ]
  },
  {
   "cell_type": "code",
   "execution_count": 37,
   "id": "4ff7b93e-d530-424b-bf0f-bd335ec9d4b4",
   "metadata": {},
   "outputs": [
    {
     "ename": "SyntaxError",
     "evalue": "unterminated string literal (detected at line 1) (2021284924.py, line 1)",
     "output_type": "error",
     "traceback": [
      "\u001b[0;36m  Cell \u001b[0;32mIn[37], line 1\u001b[0;36m\u001b[0m\n\u001b[0;31m    name4=\"\"\"\"sukruti deshmukh\"\"\"\"\u001b[0m\n\u001b[0m                                 ^\u001b[0m\n\u001b[0;31mSyntaxError\u001b[0m\u001b[0;31m:\u001b[0m unterminated string literal (detected at line 1)\n"
     ]
    }
   ],
   "source": [
    "name4=\"\"\"\"sukruti deshmukh\"\"\"\""
   ]
  },
  {
   "cell_type": "code",
   "execution_count": 39,
   "id": "ab8f5f61-fda3-4d59-a0cb-e96d164c16e9",
   "metadata": {},
   "outputs": [],
   "source": [
    "name5='''sukruti deshmukh'''"
   ]
  },
  {
   "cell_type": "code",
   "execution_count": 40,
   "id": "d7a475a0-a8ac-45e2-9784-ffb5f8142058",
   "metadata": {},
   "outputs": [
    {
     "data": {
      "text/plain": [
       "str"
      ]
     },
     "execution_count": 40,
     "metadata": {},
     "output_type": "execute_result"
    }
   ],
   "source": [
    "type(name5)"
   ]
  },
  {
   "cell_type": "code",
   "execution_count": 42,
   "id": "9f26049c-cab8-4522-b917-d1b230f626f3",
   "metadata": {},
   "outputs": [],
   "source": [
    "name6='''sukruti deszhmukh'''"
   ]
  },
  {
   "cell_type": "code",
   "execution_count": 43,
   "id": "ae4e2efd-7ccd-4a07-9f70-1df0572a3ca3",
   "metadata": {},
   "outputs": [],
   "source": [
    "# single quote in string is allowed.\n",
    "# double quote in string is allowed."
   ]
  },
  {
   "cell_type": "code",
   "execution_count": 44,
   "id": "c1725353-d113-4373-bd99-1d4092ac9bde",
   "metadata": {},
   "outputs": [
    {
     "name": "stdout",
     "output_type": "stream",
     "text": [
      "sukruti deshmukh\n",
      "soha shaikh\n"
     ]
    }
   ],
   "source": [
    "print(\"sukruti deshmukh\")\n",
    "print(\"soha shaikh\")"
   ]
  },
  {
   "cell_type": "code",
   "execution_count": 47,
   "id": "c3173de1-c447-4a20-99f5-af32f9d03635",
   "metadata": {},
   "outputs": [
    {
     "name": "stdout",
     "output_type": "stream",
     "text": [
      "sukruti deshmukh\tsoha shaikh\t"
     ]
    }
   ],
   "source": [
    "print(\"sukruti deshmukh\", end='\\t') \n",
    "print(\"soha shaikh\", end='\\t')"
   ]
  },
  {
   "cell_type": "code",
   "execution_count": null,
   "id": "988d9b52-52bf-4ff2-a76c-06c0d4da004a",
   "metadata": {},
   "outputs": [],
   "source": []
  }
 ],
 "metadata": {
  "kernelspec": {
   "display_name": "Python 3 (ipykernel)",
   "language": "python",
   "name": "python3"
  },
  "language_info": {
   "codemirror_mode": {
    "name": "ipython",
    "version": 3
   },
   "file_extension": ".py",
   "mimetype": "text/x-python",
   "name": "python",
   "nbconvert_exporter": "python",
   "pygments_lexer": "ipython3",
   "version": "3.12.4"
  }
 },
 "nbformat": 4,
 "nbformat_minor": 5
}
