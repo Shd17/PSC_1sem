{
 "cells": [
  {
   "cell_type": "code",
   "execution_count": 22,
   "id": "eb515d5e-0977-4cd0-be40-03b13c1ea269",
   "metadata": {},
   "outputs": [],
   "source": [
    "s=\"this is my first python programimg class and i am learNING python string and its function \""
   ]
  },
  {
   "cell_type": "code",
   "execution_count": 2,
   "id": "0e3daef0-3259-4c19-aa9a-1d226899bba1",
   "metadata": {},
   "outputs": [],
   "source": [
    "# 1. try to extract data from inder one to index 300 with jump of 3"
   ]
  },
  {
   "cell_type": "code",
   "execution_count": 4,
   "id": "244e4a1c-0acf-4a7f-99c1-692439ad277f",
   "metadata": {},
   "outputs": [
    {
     "data": {
      "text/plain": [
       "'h   r tnrri a d  aI tntna sutn'"
      ]
     },
     "execution_count": 4,
     "metadata": {},
     "output_type": "execute_result"
    }
   ],
   "source": [
    "s[1:300:3]"
   ]
  },
  {
   "cell_type": "code",
   "execution_count": 13,
   "id": "0f9eb8f8-cd30-438d-9609-8866db767768",
   "metadata": {},
   "outputs": [],
   "source": [
    "s1=\"we are learning problem solving using computation \""
   ]
  },
  {
   "cell_type": "code",
   "execution_count": 7,
   "id": "641099dc-e933-4130-ad45-74b96804136e",
   "metadata": {},
   "outputs": [
    {
     "data": {
      "text/plain": [
       "'eaela'"
      ]
     },
     "execution_count": 7,
     "metadata": {},
     "output_type": "execute_result"
    }
   ],
   "source": [
    "#extract data from 1 to 10 with a jump of 2\n",
    "s1[1:11:2]"
   ]
  },
  {
   "cell_type": "code",
   "execution_count": 8,
   "id": "7774c455-abef-41d0-9d62-18e670191de9",
   "metadata": {},
   "outputs": [
    {
     "data": {
      "text/plain": [
       "' noitcnuf sti dna gnirts nohtyp GNINrael ma i dna ssalc gmimargorp nohtyp tsrif ym si siht'"
      ]
     },
     "execution_count": 8,
     "metadata": {},
     "output_type": "execute_result"
    }
   ],
   "source": [
    "# 2. try to reverse a string without using reverse function \n",
    "s[::-1]"
   ]
  },
  {
   "cell_type": "code",
   "execution_count": 11,
   "id": "ca0a4036-b709-4873-9c47-b470ed5645ea",
   "metadata": {},
   "outputs": [],
   "source": [
    "# 3.try to split string after conversion of entire string in uppercase\n",
    "\n"
   ]
  },
  {
   "cell_type": "code",
   "execution_count": 20,
   "id": "76f3157a-37f7-4da0-b489-6ea837f34d19",
   "metadata": {},
   "outputs": [
    {
     "data": {
      "text/plain": [
       "['THIS',\n",
       " 'IS',\n",
       " 'MY',\n",
       " 'FIRST',\n",
       " 'PYTHON',\n",
       " 'PROGRAMIMG',\n",
       " 'CLASS',\n",
       " 'AND',\n",
       " 'I',\n",
       " 'AM',\n",
       " 'LEARNING',\n",
       " 'PYTHON',\n",
       " 'STRING',\n",
       " 'AND',\n",
       " 'ITS',\n",
       " 'FUNCTION']"
      ]
     },
     "execution_count": 20,
     "metadata": {},
     "output_type": "execute_result"
    }
   ],
   "source": [
    "#method 1\n",
    "s1=s.upper()\n",
    "s1.split()"
   ]
  },
  {
   "cell_type": "code",
   "execution_count": 21,
   "id": "4201439c-138e-4e7d-96bb-cf8dee7418b5",
   "metadata": {},
   "outputs": [
    {
     "data": {
      "text/plain": [
       "['THIS',\n",
       " 'IS',\n",
       " 'MY',\n",
       " 'FIRST',\n",
       " 'PYTHON',\n",
       " 'PROGRAMIMG',\n",
       " 'CLASS',\n",
       " 'AND',\n",
       " 'I',\n",
       " 'AM',\n",
       " 'LEARNING',\n",
       " 'PYTHON',\n",
       " 'STRING',\n",
       " 'AND',\n",
       " 'ITS',\n",
       " 'FUNCTION']"
      ]
     },
     "execution_count": 21,
     "metadata": {},
     "output_type": "execute_result"
    }
   ],
   "source": [
    "#method 2\n",
    "s.upper().split()"
   ]
  },
  {
   "cell_type": "code",
   "execution_count": null,
   "id": "f90c73da-277a-4074-a2f6-7bcee02427f5",
   "metadata": {},
   "outputs": [],
   "source": [
    "#4 try to convert the whole string into lower case "
   ]
  },
  {
   "cell_type": "code",
   "execution_count": 18,
   "id": "a2786019-a78a-439d-b3d9-6a780f793252",
   "metadata": {},
   "outputs": [
    {
     "data": {
      "text/plain": [
       "'this is my first python programimg class and i am learning python string and its function '"
      ]
     },
     "execution_count": 18,
     "metadata": {},
     "output_type": "execute_result"
    }
   ],
   "source": [
    "s.lower ()"
   ]
  },
  {
   "cell_type": "code",
   "execution_count": null,
   "id": "6c4824f9-f4a4-4e2b-88ad-f62ef6becf23",
   "metadata": {},
   "outputs": [],
   "source": [
    "#5 try to capitalize the whole string "
   ]
  },
  {
   "cell_type": "code",
   "execution_count": 19,
   "id": "5b7aa1f9-47ce-4a5c-98a2-009b282082d8",
   "metadata": {},
   "outputs": [
    {
     "data": {
      "text/plain": [
       "'This is my first python programimg class and i am learning python string and its function '"
      ]
     },
     "execution_count": 19,
     "metadata": {},
     "output_type": "execute_result"
    }
   ],
   "source": [
    "s.capitalize()"
   ]
  },
  {
   "cell_type": "code",
   "execution_count": null,
   "id": "2aae26c9-0d1a-46d6-bdab-5cebb1471c3d",
   "metadata": {},
   "outputs": [],
   "source": [
    "#6 write a diference between issalnum () and isalpha"
   ]
  },
  {
   "cell_type": "code",
   "execution_count": null,
   "id": "f0e0df8e-2931-48fd-8488-1f66a53aecf7",
   "metadata": {},
   "outputs": [],
   "source": [
    "# isalpha gives the  value as true all the character in the string are alphabets "
   ]
  },
  {
   "cell_type": "code",
   "execution_count": 38,
   "id": "57afb1fc-d6c0-4330-9a5a-029684287973",
   "metadata": {},
   "outputs": [],
   "source": [
    "test=\"abcd\"\n",
    "test1=\"abd@$546\"\n",
    "test3=\"1234\""
   ]
  },
  {
   "cell_type": "code",
   "execution_count": 25,
   "id": "a243eb4b-c31a-4140-a21a-42c5f624c1a9",
   "metadata": {},
   "outputs": [
    {
     "data": {
      "text/plain": [
       "False"
      ]
     },
     "execution_count": 25,
     "metadata": {},
     "output_type": "execute_result"
    }
   ],
   "source": [
    "test.isalpha()"
   ]
  },
  {
   "cell_type": "code",
   "execution_count": 27,
   "id": "bfcbb9e0-696d-4900-8a2a-dd22d1b2b83a",
   "metadata": {},
   "outputs": [
    {
     "data": {
      "text/plain": [
       "False"
      ]
     },
     "execution_count": 27,
     "metadata": {},
     "output_type": "execute_result"
    }
   ],
   "source": [
    "test1.isalpha()"
   ]
  },
  {
   "cell_type": "code",
   "execution_count": 29,
   "id": "721868e6-b3e8-4f3c-9698-9a729409833d",
   "metadata": {},
   "outputs": [
    {
     "data": {
      "text/plain": [
       "False"
      ]
     },
     "execution_count": 29,
     "metadata": {},
     "output_type": "execute_result"
    }
   ],
   "source": [
    "test1.isalnum()"
   ]
  },
  {
   "cell_type": "code",
   "execution_count": 31,
   "id": "8984b441-a467-4013-92ad-3bcbf92f49a4",
   "metadata": {},
   "outputs": [
    {
     "data": {
      "text/plain": [
       "True"
      ]
     },
     "execution_count": 31,
     "metadata": {},
     "output_type": "execute_result"
    }
   ],
   "source": [
    "test.isalnum()"
   ]
  },
  {
   "cell_type": "code",
   "execution_count": 40,
   "id": "fb021e71-261a-457a-b7dd-e20e4978819f",
   "metadata": {},
   "outputs": [
    {
     "data": {
      "text/plain": [
       "True"
      ]
     },
     "execution_count": 40,
     "metadata": {},
     "output_type": "execute_result"
    }
   ],
   "source": [
    "test3.isalnum()"
   ]
  },
  {
   "cell_type": "code",
   "execution_count": 42,
   "id": "35b2de2f-5e14-41fe-9d63-04bb0f142afa",
   "metadata": {},
   "outputs": [
    {
     "data": {
      "text/plain": [
       "False"
      ]
     },
     "execution_count": 42,
     "metadata": {},
     "output_type": "execute_result"
    }
   ],
   "source": [
    "test3.isalpha()"
   ]
  },
  {
   "cell_type": "code",
   "execution_count": null,
   "id": "1b7117a2-d4ea-4ce0-ad91-ecf7b648d826",
   "metadata": {},
   "outputs": [],
   "source": [
    "# 7 try to give an example of expand tab "
   ]
  },
  {
   "cell_type": "code",
   "execution_count": 34,
   "id": "494c8195-a07a-4405-8626-e7812bfd0ef6",
   "metadata": {},
   "outputs": [],
   "source": [
    "exp=\"this\\tis\\ta\\texample\""
   ]
  },
  {
   "cell_type": "code",
   "execution_count": 35,
   "id": "5c47c50a-e777-4ce1-b3d5-98083b645670",
   "metadata": {},
   "outputs": [
    {
     "data": {
      "text/plain": [
       "'this    is      a       example'"
      ]
     },
     "execution_count": 35,
     "metadata": {},
     "output_type": "execute_result"
    }
   ],
   "source": [
    "exp.expandtabs()"
   ]
  },
  {
   "cell_type": "code",
   "execution_count": 36,
   "id": "261388c4-51ee-48a8-baae-e5acfcfff138",
   "metadata": {},
   "outputs": [
    {
     "data": {
      "text/plain": [
       "'this  is  a example'"
      ]
     },
     "execution_count": 36,
     "metadata": {},
     "output_type": "execute_result"
    }
   ],
   "source": [
    "exp.expandtabs(2)"
   ]
  },
  {
   "cell_type": "code",
   "execution_count": 37,
   "id": "92556e23-0f95-4ee8-a5e1-aea6ad90cfbf",
   "metadata": {},
   "outputs": [
    {
     "data": {
      "text/plain": [
       "'this  is a  example'"
      ]
     },
     "execution_count": 37,
     "metadata": {},
     "output_type": "execute_result"
    }
   ],
   "source": [
    "exp.expandtabs(3)"
   ]
  },
  {
   "cell_type": "code",
   "execution_count": null,
   "id": "5f250402-9886-4046-a238-05e7396839fc",
   "metadata": {},
   "outputs": [],
   "source": [
    "#8 give an example of strip ,lstrip and rstrip "
   ]
  },
  {
   "cell_type": "code",
   "execution_count": 46,
   "id": "8f13378c-59e2-493b-b11d-58f4aa6dcb1d",
   "metadata": {},
   "outputs": [
    {
     "data": {
      "text/plain": [
       "'hey!! sukruti'"
      ]
     },
     "execution_count": 46,
     "metadata": {},
     "output_type": "execute_result"
    }
   ],
   "source": [
    "#1 example of strip\n",
    "a1=\"@@@22@hey!! sukruti@2@@@\"\n",
    "a1.strip(\"@2\") # remove all @2only from the rigth side "
   ]
  },
  {
   "cell_type": "code",
   "execution_count": 47,
   "id": "c869b269-ddd9-4e31-9249-6d9a16774fc3",
   "metadata": {},
   "outputs": [
    {
     "data": {
      "text/plain": [
       "'hey!! sukruti@2@@@'"
      ]
     },
     "execution_count": 47,
     "metadata": {},
     "output_type": "execute_result"
    }
   ],
   "source": [
    "#2 example of lstrip \n",
    "a1=\"@@@2@hey!! sukruti@2@@@\"\n",
    "a1.lstrip(\"@2\")"
   ]
  },
  {
   "cell_type": "code",
   "execution_count": 48,
   "id": "05250960-41fc-414c-a22b-f27f378dd881",
   "metadata": {},
   "outputs": [
    {
     "data": {
      "text/plain": [
       "'@@@2@hey!! sukruti'"
      ]
     },
     "execution_count": 48,
     "metadata": {},
     "output_type": "execute_result"
    }
   ],
   "source": [
    "#3 example of rstrip \n",
    "a1=\"@@@2@hey!! sukruti@2@@@\"\n",
    "a1.rstrip(\"@2\")"
   ]
  },
  {
   "cell_type": "code",
   "execution_count": 51,
   "id": "6b6c0d05-c86a-46b8-843e-2df7a8e5802d",
   "metadata": {},
   "outputs": [
    {
     "data": {
      "text/plain": [
       "'aisha'"
      ]
     },
     "execution_count": 51,
     "metadata": {},
     "output_type": "execute_result"
    }
   ],
   "source": [
    "#9 replace a string charecter by another charector by taking your own example\n",
    "name=\"sukruti\"\n",
    "name.replace(\"sukruti\",\"aisha\")"
   ]
  },
  {
   "cell_type": "code",
   "execution_count": null,
   "id": "14c6f347-b029-47ab-b9e1-bc82b1f10c09",
   "metadata": {},
   "outputs": [],
   "source": []
  }
 ],
 "metadata": {
  "kernelspec": {
   "display_name": "Python 3 (ipykernel)",
   "language": "python",
   "name": "python3"
  },
  "language_info": {
   "codemirror_mode": {
    "name": "ipython",
    "version": 3
   },
   "file_extension": ".py",
   "mimetype": "text/x-python",
   "name": "python",
   "nbconvert_exporter": "python",
   "pygments_lexer": "ipython3",
   "version": "3.12.4"
  }
 },
 "nbformat": 4,
 "nbformat_minor": 5
}
